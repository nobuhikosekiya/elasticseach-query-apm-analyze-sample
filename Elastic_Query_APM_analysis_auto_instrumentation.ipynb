{
  "nbformat": 4,
  "nbformat_minor": 0,
  "metadata": {
    "colab": {
      "provenance": [],
      "authorship_tag": "ABX9TyMn2vYY1SGNos5leW+b7bvw",
      "include_colab_link": true
    },
    "kernelspec": {
      "name": "python3",
      "display_name": "Python 3"
    },
    "language_info": {
      "name": "python"
    }
  },
  "cells": [
    {
      "cell_type": "markdown",
      "metadata": {
        "id": "view-in-github",
        "colab_type": "text"
      },
      "source": [
        "<a href=\"https://colab.research.google.com/github/nobuhikosekiya/elasticseach-query-apm-analyze-sample/blob/main/Elastic_Query_APM_analysis_auto_instrumentation.ipynb\" target=\"_parent\"><img src=\"https://colab.research.google.com/assets/colab-badge.svg\" alt=\"Open In Colab\"/></a>"
      ]
    },
    {
      "cell_type": "code",
      "execution_count": 1,
      "metadata": {
        "id": "lx6Ckcn-NXc9",
        "colab": {
          "base_uri": "https://localhost:8080/"
        },
        "outputId": "15420abb-8973-47f3-ab65-dbb234108bdb"
      },
      "outputs": [
        {
          "output_type": "stream",
          "name": "stdout",
          "text": [
            "\u001b[2K     \u001b[90m━━━━━━━━━━━━━━━━━━━━━━━━━━━━━━━━━━━━━━━━\u001b[0m \u001b[32m412.8/412.8 kB\u001b[0m \u001b[31m5.6 MB/s\u001b[0m eta \u001b[36m0:00:00\u001b[0m\n",
            "\u001b[2K     \u001b[90m━━━━━━━━━━━━━━━━━━━━━━━━━━━━━━━━━━━━━━━━\u001b[0m \u001b[32m344.5/344.5 kB\u001b[0m \u001b[31m9.1 MB/s\u001b[0m eta \u001b[36m0:00:00\u001b[0m\n",
            "\u001b[2K     \u001b[90m━━━━━━━━━━━━━━━━━━━━━━━━━━━━━━━━━━━━━━━━\u001b[0m \u001b[32m59.8/59.8 kB\u001b[0m \u001b[31m5.8 MB/s\u001b[0m eta \u001b[36m0:00:00\u001b[0m\n",
            "\u001b[?25h"
          ]
        }
      ],
      "source": [
        "%pip install -q elasticsearch elastic-apm\n",
        "from pprint import pprint\n",
        "import os, time\n",
        "from getpass import getpass\n",
        "from elasticsearch import Elasticsearch, helpers\n",
        "from elasticsearch.helpers import bulk\n",
        "import elasticapm"
      ]
    },
    {
      "cell_type": "markdown",
      "source": [
        "# 接続先のElasitcsearchを設定"
      ],
      "metadata": {
        "id": "NeRUvvwnOCqa"
      }
    },
    {
      "cell_type": "code",
      "source": [
        "ELASTIC_CLOUD_ID = getpass(\"Elastic deployment Cloud ID\")\n",
        "ELASTIC_API_KEY = getpass(\"Elastic deployment API Key\")\n",
        "ELASTIC_URL = getpass(\"Elastic deployment Elasticsearch URL. No need if Cloud ID is provided.\")\n",
        "ELASTIC_USER = getpass(\"Elastic user. No need if API key is provided.\")\n",
        "ELASTIC_PASSWORD = getpass(\"Elastic password. No need if API key is provided.\")\n",
        "\n",
        "\n",
        "if ELASTIC_CLOUD_ID != '' and ELASTIC_API_KEY != '':\n",
        "  es = Elasticsearch(\n",
        "    cloud_id=ELASTIC_CLOUD_ID,\n",
        "    api_key=ELASTIC_API_KEY,\n",
        "    request_timeout=300\n",
        "  )\n",
        "elif ELASTIC_URL != '' and ELASTIC_USER != '' and ELASTIC_PASSWORD != '':\n",
        "  es = Elasticsearch(\n",
        "    hosts = ELASTIC_URL,\n",
        "    basic_auth=(ELASTIC_USER, ELASTIC_PASSWORD),\n",
        "    request_timeout=300\n",
        "  )\n",
        "elif ELASTIC_CLOUD_ID != '' and ELASTIC_USER != '' and ELASTIC_PASSWORD != '':\n",
        "  es = Elasticsearch(\n",
        "    cloud_id=ELASTIC_CLOUD_ID,\n",
        "    basic_auth=(ELASTIC_USER, ELASTIC_PASSWORD),\n",
        "    request_timeout=300\n",
        "  )\n",
        "elif ELASTIC_URL != '' and ELASTIC_USER == '':\n",
        "  es = Elasticsearch(\n",
        "    hosts = ELASTIC_URL,\n",
        "    request_timeout=300\n",
        "  )\n",
        "else:\n",
        "  print(\"env needs to set either ELASTIC_CLOUD_ID or ELASTIC_URL\")\n",
        "\n",
        "\n",
        "pprint(es.info()) # should return cluster info"
      ],
      "metadata": {
        "colab": {
          "base_uri": "https://localhost:8080/"
        },
        "id": "R2EhiYoZNtvM",
        "outputId": "0169df55-282c-4ea2-ebc7-222c6f7626d2"
      },
      "execution_count": 2,
      "outputs": [
        {
          "output_type": "stream",
          "name": "stdout",
          "text": [
            "Elastic deployment Cloud ID··········\n",
            "Elastic deployment API Key··········\n",
            "Elastic deployment Elasticsearch URL. No need if Cloud ID is provided.··········\n",
            "Elastic user. No need if API key is provided.··········\n",
            "Elastic password. No need if API key is provided.··········\n",
            "ObjectApiResponse({'name': 'instance-0000000000', 'cluster_name': '5e6289c08b9e480daea7eda7cf903523', 'cluster_uuid': 'TNamOtbIQFG3BotZjeVenw', 'version': {'number': '8.11.2', 'build_flavor': 'default', 'build_type': 'docker', 'build_hash': '76013fa76dcbf144c886990c6290715f5dc2ae20', 'build_date': '2023-12-05T10:03:47.729926671Z', 'build_snapshot': False, 'lucene_version': '9.8.0', 'minimum_wire_compatibility_version': '7.17.0', 'minimum_index_compatibility_version': '7.0.0'}, 'tagline': 'You Know, for Search'})\n"
          ]
        }
      ]
    },
    {
      "cell_type": "markdown",
      "source": [
        "# Initialize Python APM"
      ],
      "metadata": {
        "id": "wQCFDX_JVU2O"
      }
    },
    {
      "cell_type": "code",
      "source": [
        "ELASTIC_APM_URL = getpass(\"Elastic deployment APM URL.\")\n",
        "ELASITC_APM_SECRET= getpass(\"Elastic deployment APM secret token.\")\n",
        "\n",
        "client = elasticapm.Client(service_name=\"Elastic_Query_APM_analysis_auto-instrumentation\", server_url=ELASTIC_APM_URL, secret_token=ELASITC_APM_SECRET, transaction_sample_rate=1.0)\n",
        "\n",
        "# Need this for auto-instrumentation\n",
        "elasticapm.instrument()"
      ],
      "metadata": {
        "id": "jWyA_q8CN4oc",
        "colab": {
          "base_uri": "https://localhost:8080/"
        },
        "outputId": "c1ed5ba5-276c-48e6-a1a1-562e263e400a"
      },
      "execution_count": 3,
      "outputs": [
        {
          "name": "stdout",
          "output_type": "stream",
          "text": [
            "Elastic deployment APM URL.··········\n",
            "Elastic deployment APM secret token.··········\n"
          ]
        }
      ]
    },
    {
      "cell_type": "markdown",
      "source": [
        "# テストしよう"
      ],
      "metadata": {
        "id": "ijGDTiI6VZro"
      }
    },
    {
      "cell_type": "code",
      "source": [
        "INDEX_NAME=\"Elastic_Query_APM_analysis_auto-instrumentation\".lower()\n",
        "INDEX_NAME"
      ],
      "metadata": {
        "colab": {
          "base_uri": "https://localhost:8080/",
          "height": 35
        },
        "id": "cQ7vsmYGvPcB",
        "outputId": "5c2a547e-b14a-47ad-b129-6fcda990cd1e"
      },
      "execution_count": 4,
      "outputs": [
        {
          "output_type": "execute_result",
          "data": {
            "text/plain": [
              "'elastic_query_apm_analysis_auto-instrumentation'"
            ],
            "application/vnd.google.colaboratory.intrinsic+json": {
              "type": "string"
            }
          },
          "metadata": {},
          "execution_count": 4
        }
      ]
    },
    {
      "cell_type": "markdown",
      "source": [
        "## INDEXの作成"
      ],
      "metadata": {
        "id": "4tiOECg7l9IU"
      }
    },
    {
      "cell_type": "code",
      "source": [
        "if es.indices.exists(index=INDEX_NAME):\n",
        "    # If it exists, delete the index\n",
        "    es.indices.delete(index=INDEX_NAME)\n",
        "    print(f\"Index '{INDEX_NAME}' deleted successfully.\")\n",
        "else:\n",
        "    print(f\"Index '{INDEX_NAME}' does not exist.\")\n",
        "\n",
        "es.indices.create(\n",
        "  index=INDEX_NAME,\n",
        "  settings={\n",
        "      \"index\": {\n",
        "          \"number_of_shards\": 1,\n",
        "          \"number_of_replicas\": 0\n",
        "      }\n",
        "  }\n",
        ")"
      ],
      "metadata": {
        "colab": {
          "base_uri": "https://localhost:8080/"
        },
        "id": "DXlM3VG9URNo",
        "outputId": "54f5a4a9-6a75-474f-ef9a-b800dff05c36"
      },
      "execution_count": 5,
      "outputs": [
        {
          "output_type": "stream",
          "name": "stdout",
          "text": [
            "Index 'elastic_query_apm_analysis_auto-instrumentation' deleted successfully.\n"
          ]
        },
        {
          "output_type": "execute_result",
          "data": {
            "text/plain": [
              "ObjectApiResponse({'acknowledged': True, 'shards_acknowledged': True, 'index': 'elastic_query_apm_analysis_auto-instrumentation'})"
            ]
          },
          "metadata": {},
          "execution_count": 5
        }
      ]
    },
    {
      "cell_type": "markdown",
      "source": [
        "## ドキュメントのインジェスト"
      ],
      "metadata": {
        "id": "obFQfKIFmD2N"
      }
    },
    {
      "cell_type": "code",
      "source": [
        "docs_json=[\n",
        "    {\"question\": \"iphoneのインストール手順について教えて\"},\n",
        "    {\"question\": \"I want to know how to setup an iphone\"},\n",
        "    {\"question\": \"iosのセットアップ手順\"},\n",
        "    {\"question\": \"iphoneどうやって使い始めればいいの？\"},\n",
        "    {\"question\": \"androidのセットアップ方法などについて知りたい\"},\n",
        "    {\"question\": \"iphoneかっこいいよね\"},\n",
        "    {\"question\": \"iPhone 14が2月に発売されるらしい\"}\n",
        "]\n",
        "\n",
        "# Delete previous documents\n",
        "if es.indices.exists(index=INDEX_NAME):\n",
        "    es.delete_by_query(index=INDEX_NAME, body={\"query\": {\"match_all\": {}}})\n",
        "\n",
        "index_docs = []\n",
        "for doc_json in docs_json:\n",
        "    index_docs.append({\n",
        "        \"_index\": INDEX_NAME,\n",
        "        \"_source\": doc_json,\n",
        "    })\n",
        "\n",
        "helpers.bulk(es, index_docs, refresh=True)"
      ],
      "metadata": {
        "colab": {
          "base_uri": "https://localhost:8080/"
        },
        "id": "x5ffNgZGJBQS",
        "outputId": "7b620878-27a1-47dc-e0e0-951b8dfb737f"
      },
      "execution_count": 6,
      "outputs": [
        {
          "output_type": "execute_result",
          "data": {
            "text/plain": [
              "(7, [])"
            ]
          },
          "metadata": {},
          "execution_count": 6
        }
      ]
    },
    {
      "cell_type": "markdown",
      "source": [
        "## サーチの実行 - 1"
      ],
      "metadata": {
        "id": "x78wPmVMmGzn"
      }
    },
    {
      "cell_type": "code",
      "source": [
        "client.begin_transaction(transaction_type=\"app\")\n",
        "elasticapm.set_user_context(username=\"nobuhiko\")\n",
        "\n",
        "search_key_word=\"iPhone\"\n",
        "query={\"match\": {\"question\": search_key_word}}\n",
        "response = es.search(index=INDEX_NAME, query=query)\n",
        "print(response.body)\n",
        "\n",
        "client.end_transaction(name=\"search-auto-instrument1\", result=\"success\")"
      ],
      "metadata": {
        "colab": {
          "base_uri": "https://localhost:8080/"
        },
        "id": "eqj7tOwoLTnn",
        "outputId": "08d61a84-47e0-416f-b473-3d2ba5bd2311"
      },
      "execution_count": 7,
      "outputs": [
        {
          "output_type": "stream",
          "name": "stdout",
          "text": [
            "{'took': 1, 'timed_out': False, '_shards': {'total': 1, 'successful': 1, 'skipped': 0, 'failed': 0}, 'hits': {'total': {'value': 5, 'relation': 'eq'}, 'max_score': 0.42356652, 'hits': [{'_index': 'elastic_query_apm_analysis_auto-instrumentation', '_id': 'kiQSY4wBoRDJc2lLPh5d', '_score': 0.42356652, '_source': {'question': 'iphoneかっこいいよね'}}, {'_index': 'elastic_query_apm_analysis_auto-instrumentation', '_id': 'jiQSY4wBoRDJc2lLPh5d', '_score': 0.40668815, '_source': {'question': 'I want to know how to setup an iphone'}}, {'_index': 'elastic_query_apm_analysis_auto-instrumentation', '_id': 'jSQSY4wBoRDJc2lLPh5d', '_score': 0.36326212, '_source': {'question': 'iphoneのインストール手順について教えて'}}, {'_index': 'elastic_query_apm_analysis_auto-instrumentation', '_id': 'kyQSY4wBoRDJc2lLPh5d', '_score': 0.33912128, '_source': {'question': 'iPhone 14が2月に発売されるらしい'}}, {'_index': 'elastic_query_apm_analysis_auto-instrumentation', '_id': 'kCQSY4wBoRDJc2lLPh5d', '_score': 0.32821545, '_source': {'question': 'iphoneどうやって使い始めればいいの？'}}]}}\n"
          ]
        },
        {
          "output_type": "execute_result",
          "data": {
            "text/plain": [
              "<elasticapm.traces.Transaction at 0x7ccf66562830>"
            ]
          },
          "metadata": {},
          "execution_count": 7
        }
      ]
    },
    {
      "cell_type": "markdown",
      "source": [
        "## サーチの実行 - 2"
      ],
      "metadata": {
        "id": "ebf1_3XimK2A"
      }
    },
    {
      "cell_type": "code",
      "source": [
        "client.begin_transaction(transaction_type=\"app\")\n",
        "elasticapm.set_user_context(username=\"nobuhiko\")\n",
        "\n",
        "search_key_word=\"Windows\"\n",
        "query={\"match\": {\"question\": search_key_word}}\n",
        "response = es.search(index=INDEX_NAME, query=query)\n",
        "print(response.body)\n",
        "\n",
        "client.end_transaction(name=\"search-auto-instrument2\", result=\"success\")"
      ],
      "metadata": {
        "colab": {
          "base_uri": "https://localhost:8080/"
        },
        "id": "zZZm22W8mL-H",
        "outputId": "3ba31ceb-f5e1-4113-981d-69fb9b571597"
      },
      "execution_count": 8,
      "outputs": [
        {
          "output_type": "stream",
          "name": "stdout",
          "text": [
            "{'took': 0, 'timed_out': False, '_shards': {'total': 1, 'successful': 1, 'skipped': 0, 'failed': 0}, 'hits': {'total': {'value': 0, 'relation': 'eq'}, 'max_score': None, 'hits': []}}\n"
          ]
        },
        {
          "output_type": "execute_result",
          "data": {
            "text/plain": [
              "<elasticapm.traces.Transaction at 0x7ccf66563e80>"
            ]
          },
          "metadata": {},
          "execution_count": 8
        }
      ]
    },
    {
      "cell_type": "markdown",
      "source": [
        "## サーチの実行 - 3 （無効なクエリー)"
      ],
      "metadata": {
        "id": "GblDRsGUol2Y"
      }
    },
    {
      "cell_type": "code",
      "source": [
        "client.begin_transaction(transaction_type=\"app\")\n",
        "elasticapm.set_user_context(username=\"nobuhiko\")\n",
        "\n",
        "try:\n",
        "  search_key_word=\"iPhone\"\n",
        "  query={\"fuzzzzzzzzy\": {\"question\": search_key_word}}\n",
        "  response = es.search(index=INDEX_NAME, query=query)\n",
        "  print(response.body)\n",
        "except Exception as e:\n",
        "  print(e)\n",
        "  elasticapm.set_transaction_outcome(\"failure\")\n",
        "  client.capture_exception()\n",
        "finally:\n",
        "  client.end_transaction(name=\"search-auto-instrument3\", result=\"failure\")"
      ],
      "metadata": {
        "colab": {
          "base_uri": "https://localhost:8080/"
        },
        "id": "C39TcsSBort9",
        "outputId": "f7eb2636-464c-4f96-d523-14415c68d1d0"
      },
      "execution_count": 10,
      "outputs": [
        {
          "output_type": "stream",
          "name": "stdout",
          "text": [
            "BadRequestError(400, 'parsing_exception', 'unknown query [fuzzzzzzzzy]')\n"
          ]
        }
      ]
    }
  ]
}