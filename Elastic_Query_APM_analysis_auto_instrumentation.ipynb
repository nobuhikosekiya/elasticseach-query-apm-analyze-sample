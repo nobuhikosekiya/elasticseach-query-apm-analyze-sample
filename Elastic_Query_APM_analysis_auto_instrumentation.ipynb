{
  "nbformat": 4,
  "nbformat_minor": 0,
  "metadata": {
    "colab": {
      "provenance": [],
      "authorship_tag": "ABX9TyMuNNYONS2uPFA1Va8EOjT7",
      "include_colab_link": true
    },
    "kernelspec": {
      "name": "python3",
      "display_name": "Python 3"
    },
    "language_info": {
      "name": "python"
    }
  },
  "cells": [
    {
      "cell_type": "markdown",
      "metadata": {
        "id": "view-in-github",
        "colab_type": "text"
      },
      "source": [
        "<a href=\"https://colab.research.google.com/github/nobuhikosekiya/elasticseach-query-apm-analyze-sample/blob/main/Elastic_Query_APM_analysis_auto_instrumentation.ipynb\" target=\"_parent\"><img src=\"https://colab.research.google.com/assets/colab-badge.svg\" alt=\"Open In Colab\"/></a>"
      ]
    },
    {
      "cell_type": "code",
      "execution_count": 1,
      "metadata": {
        "id": "lx6Ckcn-NXc9",
        "colab": {
          "base_uri": "https://localhost:8080/"
        },
        "outputId": "921c62d2-b1dc-404e-9d11-86be4a8da469"
      },
      "outputs": [
        {
          "output_type": "stream",
          "name": "stdout",
          "text": [
            "\u001b[2K     \u001b[90m━━━━━━━━━━━━━━━━━━━━━━━━━━━━━━━━━━━━━━━━\u001b[0m \u001b[32m412.8/412.8 kB\u001b[0m \u001b[31m5.0 MB/s\u001b[0m eta \u001b[36m0:00:00\u001b[0m\n",
            "\u001b[2K     \u001b[90m━━━━━━━━━━━━━━━━━━━━━━━━━━━━━━━━━━━━━━━━\u001b[0m \u001b[32m344.5/344.5 kB\u001b[0m \u001b[31m10.2 MB/s\u001b[0m eta \u001b[36m0:00:00\u001b[0m\n",
            "\u001b[2K     \u001b[90m━━━━━━━━━━━━━━━━━━━━━━━━━━━━━━━━━━━━━━━━\u001b[0m \u001b[32m59.8/59.8 kB\u001b[0m \u001b[31m5.6 MB/s\u001b[0m eta \u001b[36m0:00:00\u001b[0m\n",
            "\u001b[?25h"
          ]
        }
      ],
      "source": [
        "%pip install -q elasticsearch elastic-apm\n",
        "from pprint import pprint\n",
        "import os, time\n",
        "from getpass import getpass\n",
        "from elasticsearch import Elasticsearch, helpers\n",
        "from elasticsearch.helpers import bulk\n",
        "import elasticapm"
      ]
    },
    {
      "cell_type": "markdown",
      "source": [
        "# 接続先のElasitcsearchを設定"
      ],
      "metadata": {
        "id": "NeRUvvwnOCqa"
      }
    },
    {
      "cell_type": "code",
      "source": [
        "ELASTIC_CLOUD_ID = getpass(\"Elastic deployment Cloud ID\")\n",
        "ELASTIC_API_KEY = getpass(\"Elastic deployment API Key\")\n",
        "ELASTIC_URL = getpass(\"Elastic deployment Elasticsearch URL. No need if Cloud ID is provided.\")\n",
        "ELASTIC_USER = getpass(\"Elastic user. No need if API key is provided.\")\n",
        "ELASTIC_PASSWORD = getpass(\"Elastic password. No need if API key is provided.\")\n",
        "\n",
        "\n",
        "if ELASTIC_CLOUD_ID != '' and ELASTIC_API_KEY != '':\n",
        "  es = Elasticsearch(\n",
        "    cloud_id=ELASTIC_CLOUD_ID,\n",
        "    api_key=ELASTIC_API_KEY,\n",
        "    request_timeout=300\n",
        "  )\n",
        "elif ELASTIC_URL != '' and ELASTIC_USER != '' and ELASTIC_PASSWORD != '':\n",
        "  es = Elasticsearch(\n",
        "    hosts = ELASTIC_URL,\n",
        "    basic_auth=(ELASTIC_USER, ELASTIC_PASSWORD),\n",
        "    request_timeout=300\n",
        "  )\n",
        "elif ELASTIC_CLOUD_ID != '' and ELASTIC_USER != '' and ELASTIC_PASSWORD != '':\n",
        "  es = Elasticsearch(\n",
        "    cloud_id=ELASTIC_CLOUD_ID,\n",
        "    basic_auth=(ELASTIC_USER, ELASTIC_PASSWORD),\n",
        "    request_timeout=300\n",
        "  )\n",
        "elif ELASTIC_URL != '' and ELASTIC_USER == '':\n",
        "  es = Elasticsearch(\n",
        "    hosts = ELASTIC_URL,\n",
        "    request_timeout=300\n",
        "  )\n",
        "else:\n",
        "  print(\"env needs to set either ELASTIC_CLOUD_ID or ELASTIC_URL\")\n",
        "\n",
        "\n",
        "pprint(es.info()) # should return cluster info"
      ],
      "metadata": {
        "colab": {
          "base_uri": "https://localhost:8080/"
        },
        "id": "R2EhiYoZNtvM",
        "outputId": "9be665e6-ddf7-49f0-b8d0-4db0937b5d52"
      },
      "execution_count": 2,
      "outputs": [
        {
          "output_type": "stream",
          "name": "stdout",
          "text": [
            "Elastic deployment Cloud ID··········\n",
            "Elastic deployment API Key··········\n",
            "Elastic deployment Elasticsearch URL. No need if Cloud ID is provided.··········\n",
            "Elastic user. No need if API key is provided.··········\n",
            "Elastic password. No need if API key is provided.··········\n",
            "ObjectApiResponse({'name': 'instance-0000000000', 'cluster_name': '5e6289c08b9e480daea7eda7cf903523', 'cluster_uuid': 'TNamOtbIQFG3BotZjeVenw', 'version': {'number': '8.11.2', 'build_flavor': 'default', 'build_type': 'docker', 'build_hash': '76013fa76dcbf144c886990c6290715f5dc2ae20', 'build_date': '2023-12-05T10:03:47.729926671Z', 'build_snapshot': False, 'lucene_version': '9.8.0', 'minimum_wire_compatibility_version': '7.17.0', 'minimum_index_compatibility_version': '7.0.0'}, 'tagline': 'You Know, for Search'})\n"
          ]
        }
      ]
    },
    {
      "cell_type": "markdown",
      "source": [
        "# Initialize Python APM"
      ],
      "metadata": {
        "id": "wQCFDX_JVU2O"
      }
    },
    {
      "cell_type": "code",
      "source": [
        "ELASTIC_APM_URL = getpass(\"Elastic deployment APM URL.\")\n",
        "ELASITC_APM_SECRET= getpass(\"Elastic deployment APM secret token.\")\n",
        "\n",
        "client = elasticapm.Client(service_name=\"Elastic_Query_APM_analysis_auto-instrumentation\", server_url=ELASTIC_APM_URL, secret_token=ELASITC_APM_SECRET, transaction_sample_rate=1.0)\n",
        "\n",
        "# Need this for auto-instrumentation\n",
        "elasticapm.instrument()"
      ],
      "metadata": {
        "id": "jWyA_q8CN4oc",
        "colab": {
          "base_uri": "https://localhost:8080/"
        },
        "outputId": "94298a0e-0c7a-4a50-ce69-c1781968df41"
      },
      "execution_count": 3,
      "outputs": [
        {
          "name": "stdout",
          "output_type": "stream",
          "text": [
            "Elastic deployment APM URL.··········\n",
            "Elastic deployment APM secret token.··········\n"
          ]
        }
      ]
    },
    {
      "cell_type": "markdown",
      "source": [
        "# テストしよう"
      ],
      "metadata": {
        "id": "ijGDTiI6VZro"
      }
    },
    {
      "cell_type": "code",
      "source": [
        "INDEX_NAME=\"Elastic_Query_APM_analysis_auto-instrumentation\".lower()\n",
        "INDEX_NAME"
      ],
      "metadata": {
        "colab": {
          "base_uri": "https://localhost:8080/",
          "height": 35
        },
        "id": "cQ7vsmYGvPcB",
        "outputId": "c364f892-8a5a-4976-a1e3-cc9cedba96e0"
      },
      "execution_count": 4,
      "outputs": [
        {
          "output_type": "execute_result",
          "data": {
            "text/plain": [
              "'elastic_query_apm_analysis_auto-instrumentation'"
            ],
            "application/vnd.google.colaboratory.intrinsic+json": {
              "type": "string"
            }
          },
          "metadata": {},
          "execution_count": 4
        }
      ]
    },
    {
      "cell_type": "markdown",
      "source": [
        "## INDEXの作成"
      ],
      "metadata": {
        "id": "4tiOECg7l9IU"
      }
    },
    {
      "cell_type": "code",
      "source": [
        "if es.indices.exists(index=INDEX_NAME):\n",
        "    # If it exists, delete the index\n",
        "    es.indices.delete(index=INDEX_NAME)\n",
        "    print(f\"Index '{INDEX_NAME}' deleted successfully.\")\n",
        "else:\n",
        "    print(f\"Index '{INDEX_NAME}' does not exist.\")\n",
        "\n",
        "es.indices.create(\n",
        "  index=INDEX_NAME,\n",
        "  settings={\n",
        "      \"index\": {\n",
        "          \"number_of_shards\": 1,\n",
        "          \"number_of_replicas\": 0\n",
        "      }\n",
        "  }\n",
        ")"
      ],
      "metadata": {
        "colab": {
          "base_uri": "https://localhost:8080/"
        },
        "id": "DXlM3VG9URNo",
        "outputId": "d08c4911-32ec-41b4-d3a6-7b3512cd9c45"
      },
      "execution_count": 5,
      "outputs": [
        {
          "output_type": "stream",
          "name": "stdout",
          "text": [
            "Index 'elastic_query_apm_analysis_auto-instrumentation' deleted successfully.\n"
          ]
        },
        {
          "output_type": "execute_result",
          "data": {
            "text/plain": [
              "ObjectApiResponse({'acknowledged': True, 'shards_acknowledged': True, 'index': 'elastic_query_apm_analysis_auto-instrumentation'})"
            ]
          },
          "metadata": {},
          "execution_count": 5
        }
      ]
    },
    {
      "cell_type": "markdown",
      "source": [
        "## ドキュメントのインジェスト"
      ],
      "metadata": {
        "id": "obFQfKIFmD2N"
      }
    },
    {
      "cell_type": "code",
      "source": [
        "docs_json=[\n",
        "    {\"question\": \"iphoneのインストール手順について教えて\"},\n",
        "    {\"question\": \"I want to know how to setup an iphone\"},\n",
        "    {\"question\": \"iosのセットアップ手順\"},\n",
        "    {\"question\": \"iphoneどうやって使い始めればいいの？\"},\n",
        "    {\"question\": \"androidのセットアップ方法などについて知りたい\"},\n",
        "    {\"question\": \"iphoneかっこいいよね\"},\n",
        "    {\"question\": \"iPhone 14が2月に発売されるらしい\"}\n",
        "]\n",
        "\n",
        "# Delete previous documents\n",
        "if es.indices.exists(index=INDEX_NAME):\n",
        "    es.delete_by_query(index=INDEX_NAME, body={\"query\": {\"match_all\": {}}})\n",
        "\n",
        "index_docs = []\n",
        "for doc_json in docs_json:\n",
        "    index_docs.append({\n",
        "        \"_index\": INDEX_NAME,\n",
        "        \"_source\": doc_json,\n",
        "    })\n",
        "\n",
        "helpers.bulk(es, index_docs, refresh=True)"
      ],
      "metadata": {
        "colab": {
          "base_uri": "https://localhost:8080/"
        },
        "id": "x5ffNgZGJBQS",
        "outputId": "486d304e-8875-4a15-ae60-5e6a1e2fe718"
      },
      "execution_count": 11,
      "outputs": [
        {
          "output_type": "execute_result",
          "data": {
            "text/plain": [
              "(7, [])"
            ]
          },
          "metadata": {},
          "execution_count": 11
        }
      ]
    },
    {
      "cell_type": "markdown",
      "source": [
        "## サーチの実行 - 1"
      ],
      "metadata": {
        "id": "x78wPmVMmGzn"
      }
    },
    {
      "cell_type": "code",
      "source": [
        "client.begin_transaction(transaction_type=\"app\")\n",
        "elasticapm.set_user_context(username=\"nobuhiko\")\n",
        "\n",
        "search_key_word=\"iPhone\"\n",
        "query={\"match\": {\"question\": search_key_word}}\n",
        "response = es.search(index=INDEX_NAME, query=query)\n",
        "print(response.body)\n",
        "\n",
        "client.end_transaction(name=\"search-auto-instrument1\", result=\"success\")"
      ],
      "metadata": {
        "colab": {
          "base_uri": "https://localhost:8080/"
        },
        "id": "eqj7tOwoLTnn",
        "outputId": "db2ab7b7-9d59-4cb5-ddc9-13900f3e046b"
      },
      "execution_count": 12,
      "outputs": [
        {
          "output_type": "stream",
          "name": "stdout",
          "text": [
            "{'took': 1, 'timed_out': False, '_shards': {'total': 1, 'successful': 1, 'skipped': 0, 'failed': 0}, 'hits': {'total': {'value': 5, 'relation': 'eq'}, 'max_score': 0.40319777, 'hits': [{'_index': 'elastic_query_apm_analysis_auto-instrumentation', '_id': 'wCS7YowBoRDJc2lLoBp8', '_score': 0.40319777, '_source': {'question': 'iphoneかっこいいよね'}}, {'_index': 'elastic_query_apm_analysis_auto-instrumentation', '_id': 'vCS7YowBoRDJc2lLoBp8', '_score': 0.38713107, '_source': {'question': 'I want to know how to setup an iphone'}}, {'_index': 'elastic_query_apm_analysis_auto-instrumentation', '_id': 'uyS7YowBoRDJc2lLoBp8', '_score': 0.34579334, '_source': {'question': 'iphoneのインストール手順について教えて'}}, {'_index': 'elastic_query_apm_analysis_auto-instrumentation', '_id': 'wSS7YowBoRDJc2lLoBp8', '_score': 0.3228134, '_source': {'question': 'iPhone 14が2月に発売されるらしい'}}, {'_index': 'elastic_query_apm_analysis_auto-instrumentation', '_id': 'viS7YowBoRDJc2lLoBp8', '_score': 0.312432, '_source': {'question': 'iphoneどうやって使い始めればいいの？'}}]}}\n"
          ]
        },
        {
          "output_type": "execute_result",
          "data": {
            "text/plain": [
              "<elasticapm.traces.Transaction at 0x7a35db08fd90>"
            ]
          },
          "metadata": {},
          "execution_count": 12
        }
      ]
    },
    {
      "cell_type": "markdown",
      "source": [
        "## サーチの実行 - 2"
      ],
      "metadata": {
        "id": "ebf1_3XimK2A"
      }
    },
    {
      "cell_type": "code",
      "source": [
        "client.begin_transaction(transaction_type=\"app\")\n",
        "elasticapm.set_user_context(username=\"nobuhiko\")\n",
        "\n",
        "search_key_word=\"Windows\"\n",
        "query={\"match\": {\"question\": search_key_word}}\n",
        "response = es.search(index=INDEX_NAME, query=query)\n",
        "print(response.body)\n",
        "\n",
        "client.end_transaction(name=\"search-auto-instrument2\", result=\"success\")"
      ],
      "metadata": {
        "colab": {
          "base_uri": "https://localhost:8080/"
        },
        "id": "zZZm22W8mL-H",
        "outputId": "36bae39c-5f21-4773-ccfe-7c2f7f522df3"
      },
      "execution_count": 13,
      "outputs": [
        {
          "output_type": "stream",
          "name": "stdout",
          "text": [
            "{'took': 0, 'timed_out': False, '_shards': {'total': 1, 'successful': 1, 'skipped': 0, 'failed': 0}, 'hits': {'total': {'value': 0, 'relation': 'eq'}, 'max_score': None, 'hits': []}}\n"
          ]
        },
        {
          "output_type": "execute_result",
          "data": {
            "text/plain": [
              "<elasticapm.traces.Transaction at 0x7a35db08feb0>"
            ]
          },
          "metadata": {},
          "execution_count": 13
        }
      ]
    },
    {
      "cell_type": "markdown",
      "source": [
        "## サーチの実行 - 3 （無効なクエリー)"
      ],
      "metadata": {
        "id": "GblDRsGUol2Y"
      }
    },
    {
      "cell_type": "code",
      "source": [
        "client.begin_transaction(transaction_type=\"app\")\n",
        "elasticapm.set_user_context(username=\"nobuhiko\")\n",
        "\n",
        "try:\n",
        "  search_key_word=\"iPhone\"\n",
        "  query={\"fuzzzzzzzzy\": {\"question\": search_key_word}}\n",
        "  response = es.search(index=INDEX_NAME, query=query)\n",
        "  print(response.body)\n",
        "except:\n",
        "  elasticapm.set_transaction_outcome(\"failure\")\n",
        "  client.capture_exception()\n",
        "  raise\n",
        "finally:\n",
        "  client.end_transaction(name=\"search-auto-instrument3\", result=\"failure\")"
      ],
      "metadata": {
        "colab": {
          "base_uri": "https://localhost:8080/",
          "height": 395
        },
        "id": "C39TcsSBort9",
        "outputId": "75ca67bc-5cf3-4ca8-a9f8-4f34809b9811"
      },
      "execution_count": 9,
      "outputs": [
        {
          "output_type": "error",
          "ename": "BadRequestError",
          "evalue": "ignored",
          "traceback": [
            "\u001b[0;31m---------------------------------------------------------------------------\u001b[0m",
            "\u001b[0;31mBadRequestError\u001b[0m                           Traceback (most recent call last)",
            "\u001b[0;32m<ipython-input-9-c4605ca007de>\u001b[0m in \u001b[0;36m<cell line: 4>\u001b[0;34m()\u001b[0m\n\u001b[1;32m      5\u001b[0m   \u001b[0msearch_key_word\u001b[0m\u001b[0;34m=\u001b[0m\u001b[0;34m\"iPhone\"\u001b[0m\u001b[0;34m\u001b[0m\u001b[0;34m\u001b[0m\u001b[0m\n\u001b[1;32m      6\u001b[0m   \u001b[0mquery\u001b[0m\u001b[0;34m=\u001b[0m\u001b[0;34m{\u001b[0m\u001b[0;34m\"fuzzzzzzzzy\"\u001b[0m\u001b[0;34m:\u001b[0m \u001b[0;34m{\u001b[0m\u001b[0;34m\"question\"\u001b[0m\u001b[0;34m:\u001b[0m \u001b[0msearch_key_word\u001b[0m\u001b[0;34m}\u001b[0m\u001b[0;34m}\u001b[0m\u001b[0;34m\u001b[0m\u001b[0;34m\u001b[0m\u001b[0m\n\u001b[0;32m----> 7\u001b[0;31m   \u001b[0mresponse\u001b[0m \u001b[0;34m=\u001b[0m \u001b[0mes\u001b[0m\u001b[0;34m.\u001b[0m\u001b[0msearch\u001b[0m\u001b[0;34m(\u001b[0m\u001b[0mindex\u001b[0m\u001b[0;34m=\u001b[0m\u001b[0mINDEX_NAME\u001b[0m\u001b[0;34m,\u001b[0m \u001b[0mquery\u001b[0m\u001b[0;34m=\u001b[0m\u001b[0mquery\u001b[0m\u001b[0;34m)\u001b[0m\u001b[0;34m\u001b[0m\u001b[0;34m\u001b[0m\u001b[0m\n\u001b[0m\u001b[1;32m      8\u001b[0m   \u001b[0mprint\u001b[0m\u001b[0;34m(\u001b[0m\u001b[0mresponse\u001b[0m\u001b[0;34m.\u001b[0m\u001b[0mbody\u001b[0m\u001b[0;34m)\u001b[0m\u001b[0;34m\u001b[0m\u001b[0;34m\u001b[0m\u001b[0m\n\u001b[1;32m      9\u001b[0m \u001b[0;32mexcept\u001b[0m\u001b[0;34m:\u001b[0m\u001b[0;34m\u001b[0m\u001b[0;34m\u001b[0m\u001b[0m\n",
            "\u001b[0;32m/usr/local/lib/python3.10/dist-packages/elasticsearch/_sync/client/utils.py\u001b[0m in \u001b[0;36mwrapped\u001b[0;34m(*args, **kwargs)\u001b[0m\n\u001b[1;32m    400\u001b[0m                         \u001b[0;32mpass\u001b[0m\u001b[0;34m\u001b[0m\u001b[0;34m\u001b[0m\u001b[0m\n\u001b[1;32m    401\u001b[0m \u001b[0;34m\u001b[0m\u001b[0m\n\u001b[0;32m--> 402\u001b[0;31m             \u001b[0;32mreturn\u001b[0m \u001b[0mapi\u001b[0m\u001b[0;34m(\u001b[0m\u001b[0;34m*\u001b[0m\u001b[0margs\u001b[0m\u001b[0;34m,\u001b[0m \u001b[0;34m**\u001b[0m\u001b[0mkwargs\u001b[0m\u001b[0;34m)\u001b[0m\u001b[0;34m\u001b[0m\u001b[0;34m\u001b[0m\u001b[0m\n\u001b[0m\u001b[1;32m    403\u001b[0m \u001b[0;34m\u001b[0m\u001b[0m\n\u001b[1;32m    404\u001b[0m         \u001b[0;32mreturn\u001b[0m \u001b[0mwrapped\u001b[0m  \u001b[0;31m# type: ignore[return-value]\u001b[0m\u001b[0;34m\u001b[0m\u001b[0;34m\u001b[0m\u001b[0m\n",
            "\u001b[0;32m/usr/local/lib/python3.10/dist-packages/elasticsearch/_sync/client/__init__.py\u001b[0m in \u001b[0;36msearch\u001b[0;34m(self, index, aggregations, aggs, allow_no_indices, allow_partial_search_results, analyze_wildcard, analyzer, batched_reduce_size, ccs_minimize_roundtrips, collapse, default_operator, df, docvalue_fields, error_trace, expand_wildcards, explain, ext, fields, filter_path, from_, highlight, human, ignore_throttled, ignore_unavailable, indices_boost, knn, lenient, max_concurrent_shard_requests, min_compatible_shard_node, min_score, pit, post_filter, pre_filter_shard_size, preference, pretty, profile, q, query, rank, request_cache, rescore, rest_total_hits_as_int, routing, runtime_mappings, script_fields, scroll, search_after, search_type, seq_no_primary_term, size, slice, sort, source, source_excludes, source_includes, stats, stored_fields, suggest, suggest_field, suggest_mode, suggest_size, suggest_text, terminate_after, timeout, track_scores, track_total_hits, typed_keys, version)\u001b[0m\n\u001b[1;32m   3731\u001b[0m         \u001b[0;32mif\u001b[0m \u001b[0m__body\u001b[0m \u001b[0;32mis\u001b[0m \u001b[0;32mnot\u001b[0m \u001b[0;32mNone\u001b[0m\u001b[0;34m:\u001b[0m\u001b[0;34m\u001b[0m\u001b[0;34m\u001b[0m\u001b[0m\n\u001b[1;32m   3732\u001b[0m             \u001b[0m__headers\u001b[0m\u001b[0;34m[\u001b[0m\u001b[0;34m\"content-type\"\u001b[0m\u001b[0;34m]\u001b[0m \u001b[0;34m=\u001b[0m \u001b[0;34m\"application/json\"\u001b[0m\u001b[0;34m\u001b[0m\u001b[0;34m\u001b[0m\u001b[0m\n\u001b[0;32m-> 3733\u001b[0;31m         return self.perform_request(  # type: ignore[return-value]\n\u001b[0m\u001b[1;32m   3734\u001b[0m             \u001b[0;34m\"POST\"\u001b[0m\u001b[0;34m,\u001b[0m \u001b[0m__path\u001b[0m\u001b[0;34m,\u001b[0m \u001b[0mparams\u001b[0m\u001b[0;34m=\u001b[0m\u001b[0m__query\u001b[0m\u001b[0;34m,\u001b[0m \u001b[0mheaders\u001b[0m\u001b[0;34m=\u001b[0m\u001b[0m__headers\u001b[0m\u001b[0;34m,\u001b[0m \u001b[0mbody\u001b[0m\u001b[0;34m=\u001b[0m\u001b[0m__body\u001b[0m\u001b[0;34m\u001b[0m\u001b[0;34m\u001b[0m\u001b[0m\n\u001b[1;32m   3735\u001b[0m         )\n",
            "\u001b[0;32m/usr/local/lib/python3.10/dist-packages/elasticsearch/_sync/client/_base.py\u001b[0m in \u001b[0;36mperform_request\u001b[0;34m(self, method, path, params, headers, body)\u001b[0m\n\u001b[1;32m    318\u001b[0m                     \u001b[0;32mpass\u001b[0m\u001b[0;34m\u001b[0m\u001b[0;34m\u001b[0m\u001b[0m\n\u001b[1;32m    319\u001b[0m \u001b[0;34m\u001b[0m\u001b[0m\n\u001b[0;32m--> 320\u001b[0;31m             raise HTTP_EXCEPTIONS.get(meta.status, ApiError)(\n\u001b[0m\u001b[1;32m    321\u001b[0m                 \u001b[0mmessage\u001b[0m\u001b[0;34m=\u001b[0m\u001b[0mmessage\u001b[0m\u001b[0;34m,\u001b[0m \u001b[0mmeta\u001b[0m\u001b[0;34m=\u001b[0m\u001b[0mmeta\u001b[0m\u001b[0;34m,\u001b[0m \u001b[0mbody\u001b[0m\u001b[0;34m=\u001b[0m\u001b[0mresp_body\u001b[0m\u001b[0;34m\u001b[0m\u001b[0;34m\u001b[0m\u001b[0m\n\u001b[1;32m    322\u001b[0m             )\n",
            "\u001b[0;31mBadRequestError\u001b[0m: BadRequestError(400, 'parsing_exception', 'unknown query [fuzzzzzzzzy]')"
          ]
        }
      ]
    }
  ]
}