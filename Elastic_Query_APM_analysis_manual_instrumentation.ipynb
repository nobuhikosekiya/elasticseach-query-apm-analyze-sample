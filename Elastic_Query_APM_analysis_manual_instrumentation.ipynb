{
  "nbformat": 4,
  "nbformat_minor": 0,
  "metadata": {
    "colab": {
      "provenance": [],
      "authorship_tag": "ABX9TyOfgqs8a6iDT8Lh45eAv+cl",
      "include_colab_link": true
    },
    "kernelspec": {
      "name": "python3",
      "display_name": "Python 3"
    },
    "language_info": {
      "name": "python"
    }
  },
  "cells": [
    {
      "cell_type": "markdown",
      "metadata": {
        "id": "view-in-github",
        "colab_type": "text"
      },
      "source": [
        "<a href=\"https://colab.research.google.com/github/nobuhikosekiya/elasticseach-query-apm-analyze-sample/blob/main/Elastic_Query_APM_analysis_manual_instrumentation.ipynb\" target=\"_parent\"><img src=\"https://colab.research.google.com/assets/colab-badge.svg\" alt=\"Open In Colab\"/></a>"
      ]
    },
    {
      "cell_type": "code",
      "execution_count": null,
      "metadata": {
        "id": "lx6Ckcn-NXc9"
      },
      "outputs": [],
      "source": [
        "%pip install -q elasticsearch elastic-apm\n",
        "from pprint import pprint\n",
        "import os, time\n",
        "from getpass import getpass\n",
        "from elasticsearch import Elasticsearch, helpers\n",
        "from elasticsearch.helpers import bulk\n",
        "import elasticapm"
      ]
    },
    {
      "cell_type": "markdown",
      "source": [
        "# 接続先のElasitcsearchを設定"
      ],
      "metadata": {
        "id": "NeRUvvwnOCqa"
      }
    },
    {
      "cell_type": "code",
      "source": [
        "ELASTIC_CLOUD_ID = getpass(\"Elastic deployment Cloud ID\")\n",
        "ELASTIC_API_KEY = getpass(\"Elastic deployment API Key\")\n",
        "ELASTIC_URL = getpass(\"Elastic deployment Elasticsearch URL. No need if Cloud ID is provided.\")\n",
        "ELASTIC_USER = getpass(\"Elastic user. No need if API key is provided.\")\n",
        "ELASTIC_PASSWORD = getpass(\"Elastic password. No need if API key is provided.\")\n",
        "\n",
        "\n",
        "if ELASTIC_CLOUD_ID != '' and ELASTIC_API_KEY != '':\n",
        "  es = Elasticsearch(\n",
        "    cloud_id=ELASTIC_CLOUD_ID,\n",
        "    api_key=ELASTIC_API_KEY,\n",
        "    request_timeout=300\n",
        "  )\n",
        "elif ELASTIC_URL != '' and ELASTIC_USER != '' and ELASTIC_PASSWORD != '':\n",
        "  es = Elasticsearch(\n",
        "    hosts = ELASTIC_URL,\n",
        "    basic_auth=(ELASTIC_USER, ELASTIC_PASSWORD),\n",
        "    request_timeout=300\n",
        "  )\n",
        "elif ELASTIC_CLOUD_ID != '' and ELASTIC_USER != '' and ELASTIC_PASSWORD != '':\n",
        "  es = Elasticsearch(\n",
        "    cloud_id=ELASTIC_CLOUD_ID,\n",
        "    basic_auth=(ELASTIC_USER, ELASTIC_PASSWORD),\n",
        "    request_timeout=300\n",
        "  )\n",
        "elif ELASTIC_URL != '' and ELASTIC_USER == '':\n",
        "  es = Elasticsearch(\n",
        "    hosts = ELASTIC_URL,\n",
        "    request_timeout=300\n",
        "  )\n",
        "else:\n",
        "  print(\"env needs to set either ELASTIC_CLOUD_ID or ELASTIC_URL\")\n",
        "\n",
        "\n",
        "pprint(es.info()) # should return cluster info"
      ],
      "metadata": {
        "colab": {
          "base_uri": "https://localhost:8080/"
        },
        "id": "R2EhiYoZNtvM",
        "outputId": "20294787-aef4-46be-d4c3-bb76b09ad208"
      },
      "execution_count": null,
      "outputs": [
        {
          "output_type": "stream",
          "name": "stdout",
          "text": [
            "Elastic deployment Cloud ID··········\n",
            "Elastic deployment API Key··········\n",
            "Elastic deployment Elasticsearch URL. No need if Cloud ID is provided.··········\n",
            "Elastic user. No need if API key is provided.··········\n",
            "Elastic password. No need if API key is provided.··········\n",
            "ObjectApiResponse({'name': 'instance-0000000000', 'cluster_name': '5e6289c08b9e480daea7eda7cf903523', 'cluster_uuid': 'TNamOtbIQFG3BotZjeVenw', 'version': {'number': '8.11.2', 'build_flavor': 'default', 'build_type': 'docker', 'build_hash': '76013fa76dcbf144c886990c6290715f5dc2ae20', 'build_date': '2023-12-05T10:03:47.729926671Z', 'build_snapshot': False, 'lucene_version': '9.8.0', 'minimum_wire_compatibility_version': '7.17.0', 'minimum_index_compatibility_version': '7.0.0'}, 'tagline': 'You Know, for Search'})\n"
          ]
        }
      ]
    },
    {
      "cell_type": "markdown",
      "source": [
        "# Initialize Python APM"
      ],
      "metadata": {
        "id": "wQCFDX_JVU2O"
      }
    },
    {
      "cell_type": "code",
      "source": [
        "ELASTIC_APM_URL = getpass(\"Elastic deployment APM URL.\")\n",
        "ELASITC_APM_SECRET= getpass(\"Elastic deployment APM secret token.\")\n",
        "\n",
        "client = elasticapm.Client(service_name=\"Elastic_Query_APM_analysis_manual-instrumentation\", server_url=ELASTIC_APM_URL, secret_token=ELASITC_APM_SECRET, transaction_sample_rate=1.0)\n",
        "# elasticapm.instrument() ... Do not enable if you do not want to auto instrument Elasticsearch queries"
      ],
      "metadata": {
        "id": "jWyA_q8CN4oc",
        "colab": {
          "base_uri": "https://localhost:8080/"
        },
        "outputId": "481cf2bf-49e1-4819-95d0-e0be17a25eff"
      },
      "execution_count": null,
      "outputs": [
        {
          "name": "stdout",
          "output_type": "stream",
          "text": [
            "Elastic deployment APM URL.··········\n",
            "Elastic deployment APM secret token.··········\n"
          ]
        },
        {
          "output_type": "stream",
          "name": "stderr",
          "text": [
            "WARNING:elasticapm:Client object is being set more than once\n",
            "Stack (most recent call last):\n",
            "  File \"/usr/lib/python3.10/runpy.py\", line 196, in _run_module_as_main\n",
            "    return _run_code(code, main_globals, None,\n",
            "  File \"/usr/lib/python3.10/runpy.py\", line 86, in _run_code\n",
            "    exec(code, run_globals)\n",
            "  File \"/usr/local/lib/python3.10/dist-packages/colab_kernel_launcher.py\", line 37, in <module>\n",
            "    ColabKernelApp.launch_instance()\n",
            "  File \"/usr/local/lib/python3.10/dist-packages/traitlets/config/application.py\", line 992, in launch_instance\n",
            "    app.start()\n",
            "  File \"/usr/local/lib/python3.10/dist-packages/ipykernel/kernelapp.py\", line 619, in start\n",
            "    self.io_loop.start()\n",
            "  File \"/usr/local/lib/python3.10/dist-packages/tornado/platform/asyncio.py\", line 195, in start\n",
            "    self.asyncio_loop.run_forever()\n",
            "  File \"/usr/lib/python3.10/asyncio/base_events.py\", line 603, in run_forever\n",
            "    self._run_once()\n",
            "  File \"/usr/lib/python3.10/asyncio/base_events.py\", line 1909, in _run_once\n",
            "    handle._run()\n",
            "  File \"/usr/lib/python3.10/asyncio/events.py\", line 80, in _run\n",
            "    self._context.run(self._callback, *self._args)\n",
            "  File \"/usr/local/lib/python3.10/dist-packages/tornado/ioloop.py\", line 685, in <lambda>\n",
            "    lambda f: self._run_callback(functools.partial(callback, future))\n",
            "  File \"/usr/local/lib/python3.10/dist-packages/tornado/ioloop.py\", line 738, in _run_callback\n",
            "    ret = callback()\n",
            "  File \"/usr/local/lib/python3.10/dist-packages/tornado/gen.py\", line 825, in inner\n",
            "    self.ctx_run(self.run)\n",
            "  File \"/usr/local/lib/python3.10/dist-packages/tornado/gen.py\", line 786, in run\n",
            "    yielded = self.gen.send(value)\n",
            "  File \"/usr/local/lib/python3.10/dist-packages/ipykernel/kernelbase.py\", line 361, in process_one\n",
            "    yield gen.maybe_future(dispatch(*args))\n",
            "  File \"/usr/local/lib/python3.10/dist-packages/tornado/gen.py\", line 234, in wrapper\n",
            "    yielded = ctx_run(next, result)\n",
            "  File \"/usr/local/lib/python3.10/dist-packages/ipykernel/kernelbase.py\", line 261, in dispatch_shell\n",
            "    yield gen.maybe_future(handler(stream, idents, msg))\n",
            "  File \"/usr/local/lib/python3.10/dist-packages/tornado/gen.py\", line 234, in wrapper\n",
            "    yielded = ctx_run(next, result)\n",
            "  File \"/usr/local/lib/python3.10/dist-packages/ipykernel/kernelbase.py\", line 539, in execute_request\n",
            "    self.do_execute(\n",
            "  File \"/usr/local/lib/python3.10/dist-packages/tornado/gen.py\", line 234, in wrapper\n",
            "    yielded = ctx_run(next, result)\n",
            "  File \"/usr/local/lib/python3.10/dist-packages/ipykernel/ipkernel.py\", line 302, in do_execute\n",
            "    res = shell.run_cell(code, store_history=store_history, silent=silent)\n",
            "  File \"/usr/local/lib/python3.10/dist-packages/ipykernel/zmqshell.py\", line 539, in run_cell\n",
            "    return super(ZMQInteractiveShell, self).run_cell(*args, **kwargs)\n",
            "  File \"/usr/local/lib/python3.10/dist-packages/IPython/core/interactiveshell.py\", line 2975, in run_cell\n",
            "    result = self._run_cell(\n",
            "  File \"/usr/local/lib/python3.10/dist-packages/IPython/core/interactiveshell.py\", line 3030, in _run_cell\n",
            "    return runner(coro)\n",
            "  File \"/usr/local/lib/python3.10/dist-packages/IPython/core/async_helpers.py\", line 78, in _pseudo_sync_runner\n",
            "    coro.send(None)\n",
            "  File \"/usr/local/lib/python3.10/dist-packages/IPython/core/interactiveshell.py\", line 3257, in run_cell_async\n",
            "    has_raised = await self.run_ast_nodes(code_ast.body, cell_name,\n",
            "  File \"/usr/local/lib/python3.10/dist-packages/IPython/core/interactiveshell.py\", line 3473, in run_ast_nodes\n",
            "    if (await self.run_code(code, result,  async_=asy)):\n",
            "  File \"/usr/local/lib/python3.10/dist-packages/IPython/core/interactiveshell.py\", line 3553, in run_code\n",
            "    exec(code_obj, self.user_global_ns, self.user_ns)\n",
            "  File \"<ipython-input-17-dee4a18cc634>\", line 4, in <cell line: 4>\n",
            "    client = elasticapm.Client(service_name=\"Elastic_Query_APM_analysis_manual-instrumentation\", server_url=ELASTIC_APM_URL, secret_token=ELASITC_APM_SECRET, transaction_sample_rate=1.0)\n",
            "  File \"/usr/local/lib/python3.10/dist-packages/elasticapm/base.py\", line 229, in __init__\n",
            "    set_client(self)\n",
            "  File \"/usr/local/lib/python3.10/dist-packages/elasticapm/base.py\", line 761, in set_client\n",
            "    logger.warning(\"Client object is being set more than once\", stack_info=True)\n"
          ]
        }
      ]
    },
    {
      "cell_type": "markdown",
      "source": [
        "# テストしよう"
      ],
      "metadata": {
        "id": "ijGDTiI6VZro"
      }
    },
    {
      "cell_type": "code",
      "source": [
        "INDEX_NAME=\"Elastic_Query_APM_analysis_manual-instrumentation\".lower()\n",
        "INDEX_NAME"
      ],
      "metadata": {
        "id": "cQ7vsmYGvPcB",
        "colab": {
          "base_uri": "https://localhost:8080/",
          "height": 35
        },
        "outputId": "21e9adf2-34ef-49a2-b834-a4def824ad96"
      },
      "execution_count": null,
      "outputs": [
        {
          "output_type": "execute_result",
          "data": {
            "text/plain": [
              "'elastic_query_apm_analysis_manual-instrumentation'"
            ],
            "application/vnd.google.colaboratory.intrinsic+json": {
              "type": "string"
            }
          },
          "metadata": {},
          "execution_count": 26
        }
      ]
    },
    {
      "cell_type": "markdown",
      "source": [
        "## INDEXの作成"
      ],
      "metadata": {
        "id": "P9gMk2qymrvK"
      }
    },
    {
      "cell_type": "code",
      "source": [
        "if es.indices.exists(index=INDEX_NAME):\n",
        "    # If it exists, delete the index\n",
        "    es.indices.delete(index=INDEX_NAME)\n",
        "    print(f\"Index '{INDEX_NAME}' deleted successfully.\")\n",
        "else:\n",
        "    print(f\"Index '{INDEX_NAME}' does not exist.\")\n",
        "\n",
        "es.indices.create(\n",
        "  index=INDEX_NAME,\n",
        "  settings={\n",
        "      \"index\": {\n",
        "          \"number_of_shards\": 1,\n",
        "          \"number_of_replicas\": 0\n",
        "      }\n",
        "  }\n",
        ")"
      ],
      "metadata": {
        "colab": {
          "base_uri": "https://localhost:8080/"
        },
        "id": "DXlM3VG9URNo",
        "outputId": "5fe9b5a8-f56a-4f69-8b2e-dff526c6eebe"
      },
      "execution_count": null,
      "outputs": [
        {
          "output_type": "stream",
          "name": "stdout",
          "text": [
            "Index 'elastic_query_apm_analysis_manual-instrumentation' deleted successfully.\n"
          ]
        },
        {
          "output_type": "execute_result",
          "data": {
            "text/plain": [
              "ObjectApiResponse({'acknowledged': True, 'shards_acknowledged': True, 'index': 'elastic_query_apm_analysis_manual-instrumentation'})"
            ]
          },
          "metadata": {},
          "execution_count": 27
        }
      ]
    },
    {
      "cell_type": "markdown",
      "source": [
        "## ドキュメントの作成"
      ],
      "metadata": {
        "id": "O99iOdM-mvD4"
      }
    },
    {
      "cell_type": "code",
      "source": [
        "docs_json=[\n",
        "    {\"question\": \"iphoneのインストール手順について教えて\"},\n",
        "    {\"question\": \"I want to know how to setup an iphone\"},\n",
        "    {\"question\": \"iosのセットアップ手順\"},\n",
        "    {\"question\": \"iphoneどうやって使い始めればいいの？\"},\n",
        "    {\"question\": \"androidのセットアップ方法などについて知りたい\"},\n",
        "    {\"question\": \"iphoneかっこいいよね\"},\n",
        "    {\"question\": \"iPhone 14が2月に発売されるらしい\"}\n",
        "]\n",
        "\n",
        "# Delete previous documents\n",
        "if es.indices.exists(index=INDEX_NAME):\n",
        "    es.delete_by_query(index=INDEX_NAME, body={\"query\": {\"match_all\": {}}})\n",
        "\n",
        "index_docs = []\n",
        "for doc_json in docs_json:\n",
        "    index_docs.append({\n",
        "        \"_index\": INDEX_NAME,\n",
        "        \"_source\": doc_json,\n",
        "    })\n",
        "\n",
        "helpers.bulk(es, index_docs, refresh=True)"
      ],
      "metadata": {
        "colab": {
          "base_uri": "https://localhost:8080/"
        },
        "id": "x5ffNgZGJBQS",
        "outputId": "b21ad8c5-a1a0-4dcb-a7d8-62a71cdd8d05"
      },
      "execution_count": null,
      "outputs": [
        {
          "output_type": "execute_result",
          "data": {
            "text/plain": [
              "(7, [])"
            ]
          },
          "metadata": {},
          "execution_count": 28
        }
      ]
    },
    {
      "cell_type": "markdown",
      "source": [
        "## サーチ - 1"
      ],
      "metadata": {
        "id": "SS-h7aIjmyd8"
      }
    },
    {
      "cell_type": "code",
      "source": [
        "i=0\n",
        "j=0\n",
        "k=0"
      ],
      "metadata": {
        "id": "TCfDsA8yzgHO"
      },
      "execution_count": null,
      "outputs": []
    },
    {
      "cell_type": "code",
      "source": [
        "client.begin_transaction(transaction_type=\"app\")\n",
        "elasticapm.set_user_context(username=\"nobuhiko\")\n",
        "\n",
        "search_key_word=\"iPhone\"\n",
        "query={\"match\": {\"question\": search_key_word}}\n",
        "query_user_input=search_key_word\n",
        "\n",
        "# set labels to the current transaction\n",
        "elasticapm.label(query=query, search_key_word=search_key_word, execution_count=j)\n",
        "response = es.search(index=INDEX_NAME, query=query)\n",
        "print(response.body)\n",
        "hit_count=response['hits']['total']['value']\n",
        "# set labels to the current transaction\n",
        "elasticapm.label(hits=hit_count)\n",
        "\n",
        "client.end_transaction(name=\"search-manual-instrument1\", result=\"success\")\n",
        "\n",
        "i=i+1"
      ],
      "metadata": {
        "id": "eqj7tOwoLTnn"
      },
      "execution_count": null,
      "outputs": []
    },
    {
      "cell_type": "markdown",
      "source": [
        "## サーチ - 2"
      ],
      "metadata": {
        "id": "vc1q__dkm0Xo"
      }
    },
    {
      "cell_type": "code",
      "source": [
        "client.begin_transaction(transaction_type=\"app\")\n",
        "elasticapm.set_user_context(username=\"nobuhiko\")\n",
        "\n",
        "search_key_word=\"Windows\"\n",
        "query={\"match\": {\"question\": search_key_word}}\n",
        "query_user_input=search_key_word\n",
        "\n",
        "# set labels to the current transaction\n",
        "elasticapm.label(query=query, search_key_word=search_key_word, execution_count=j)\n",
        "response = es.search(index=INDEX_NAME, query=query)\n",
        "print(response.body)\n",
        "hit_count=response['hits']['total']['value']\n",
        "# set labels to the current transaction\n",
        "elasticapm.label(hits=hit_count)\n",
        "\n",
        "client.end_transaction(name=\"search-manual-instrument2\", result=\"success\")\n",
        "\n",
        "j=j+1"
      ],
      "metadata": {
        "id": "qjXynF5Qm16-"
      },
      "execution_count": null,
      "outputs": []
    },
    {
      "cell_type": "markdown",
      "source": [
        "## サーチ - 3 無効なクエリー"
      ],
      "metadata": {
        "id": "jDQ0Bz74rxTG"
      }
    },
    {
      "cell_type": "code",
      "source": [
        "client.begin_transaction(transaction_type=\"app\")\n",
        "elasticapm.set_user_context(username=\"nobuhiko\")\n",
        "\n",
        "try:\n",
        "  search_key_word=\"iPhone\"\n",
        "  query={\"fuzzzzzzzzy\": {\"question\": search_key_word}}\n",
        "  query_user_input=search_key_word\n",
        "\n",
        "  # set labels to the current transaction\n",
        "  elasticapm.label(query=query, search_key_word=search_key_word, execution_count=j)\n",
        "  response = es.search(index=INDEX_NAME, query=query)\n",
        "  print(response.body)\n",
        "  hit_count=response['hits']['total']['value']\n",
        "  # set labels to the current transaction\n",
        "  elasticapm.label(hits=hit_count)\n",
        "except:\n",
        "  elasticapm.set_transaction_outcome(\"failure\")\n",
        "  client.capture_exception()\n",
        "  raise\n",
        "finally:\n",
        "  client.end_transaction(name=\"search-manual-instrument3\", result=\"failure\")\n",
        "  k=k+1"
      ],
      "metadata": {
        "colab": {
          "base_uri": "https://localhost:8080/",
          "height": 395
        },
        "id": "E--QdjLSrzhD",
        "outputId": "c630cd37-e48e-4a14-d8cb-ef5f222dba78"
      },
      "execution_count": null,
      "outputs": [
        {
          "output_type": "error",
          "ename": "BadRequestError",
          "evalue": "ignored",
          "traceback": [
            "\u001b[0;31m---------------------------------------------------------------------------\u001b[0m",
            "\u001b[0;31mBadRequestError\u001b[0m                           Traceback (most recent call last)",
            "\u001b[0;32m<ipython-input-32-4885d78a8896>\u001b[0m in \u001b[0;36m<cell line: 4>\u001b[0;34m()\u001b[0m\n\u001b[1;32m      9\u001b[0m   \u001b[0;31m# set labels to the current transaction\u001b[0m\u001b[0;34m\u001b[0m\u001b[0;34m\u001b[0m\u001b[0m\n\u001b[1;32m     10\u001b[0m   \u001b[0melasticapm\u001b[0m\u001b[0;34m.\u001b[0m\u001b[0mlabel\u001b[0m\u001b[0;34m(\u001b[0m\u001b[0mquery\u001b[0m\u001b[0;34m=\u001b[0m\u001b[0mquery\u001b[0m\u001b[0;34m,\u001b[0m \u001b[0msearch_key_word\u001b[0m\u001b[0;34m=\u001b[0m\u001b[0msearch_key_word\u001b[0m\u001b[0;34m,\u001b[0m \u001b[0mexecution_count\u001b[0m\u001b[0;34m=\u001b[0m\u001b[0mj\u001b[0m\u001b[0;34m)\u001b[0m\u001b[0;34m\u001b[0m\u001b[0;34m\u001b[0m\u001b[0m\n\u001b[0;32m---> 11\u001b[0;31m   \u001b[0mresponse\u001b[0m \u001b[0;34m=\u001b[0m \u001b[0mes\u001b[0m\u001b[0;34m.\u001b[0m\u001b[0msearch\u001b[0m\u001b[0;34m(\u001b[0m\u001b[0mindex\u001b[0m\u001b[0;34m=\u001b[0m\u001b[0mINDEX_NAME\u001b[0m\u001b[0;34m,\u001b[0m \u001b[0mquery\u001b[0m\u001b[0;34m=\u001b[0m\u001b[0mquery\u001b[0m\u001b[0;34m)\u001b[0m\u001b[0;34m\u001b[0m\u001b[0;34m\u001b[0m\u001b[0m\n\u001b[0m\u001b[1;32m     12\u001b[0m   \u001b[0mhit_count\u001b[0m\u001b[0;34m=\u001b[0m\u001b[0mresponse\u001b[0m\u001b[0;34m[\u001b[0m\u001b[0;34m'hits'\u001b[0m\u001b[0;34m]\u001b[0m\u001b[0;34m[\u001b[0m\u001b[0;34m'total'\u001b[0m\u001b[0;34m]\u001b[0m\u001b[0;34m[\u001b[0m\u001b[0;34m'value'\u001b[0m\u001b[0;34m]\u001b[0m\u001b[0;34m\u001b[0m\u001b[0;34m\u001b[0m\u001b[0m\n\u001b[1;32m     13\u001b[0m   \u001b[0;31m# set labels to the current transaction\u001b[0m\u001b[0;34m\u001b[0m\u001b[0;34m\u001b[0m\u001b[0m\n",
            "\u001b[0;32m/usr/local/lib/python3.10/dist-packages/elasticsearch/_sync/client/utils.py\u001b[0m in \u001b[0;36mwrapped\u001b[0;34m(*args, **kwargs)\u001b[0m\n\u001b[1;32m    400\u001b[0m                         \u001b[0;32mpass\u001b[0m\u001b[0;34m\u001b[0m\u001b[0;34m\u001b[0m\u001b[0m\n\u001b[1;32m    401\u001b[0m \u001b[0;34m\u001b[0m\u001b[0m\n\u001b[0;32m--> 402\u001b[0;31m             \u001b[0;32mreturn\u001b[0m \u001b[0mapi\u001b[0m\u001b[0;34m(\u001b[0m\u001b[0;34m*\u001b[0m\u001b[0margs\u001b[0m\u001b[0;34m,\u001b[0m \u001b[0;34m**\u001b[0m\u001b[0mkwargs\u001b[0m\u001b[0;34m)\u001b[0m\u001b[0;34m\u001b[0m\u001b[0;34m\u001b[0m\u001b[0m\n\u001b[0m\u001b[1;32m    403\u001b[0m \u001b[0;34m\u001b[0m\u001b[0m\n\u001b[1;32m    404\u001b[0m         \u001b[0;32mreturn\u001b[0m \u001b[0mwrapped\u001b[0m  \u001b[0;31m# type: ignore[return-value]\u001b[0m\u001b[0;34m\u001b[0m\u001b[0;34m\u001b[0m\u001b[0m\n",
            "\u001b[0;32m/usr/local/lib/python3.10/dist-packages/elasticsearch/_sync/client/__init__.py\u001b[0m in \u001b[0;36msearch\u001b[0;34m(self, index, aggregations, aggs, allow_no_indices, allow_partial_search_results, analyze_wildcard, analyzer, batched_reduce_size, ccs_minimize_roundtrips, collapse, default_operator, df, docvalue_fields, error_trace, expand_wildcards, explain, ext, fields, filter_path, from_, highlight, human, ignore_throttled, ignore_unavailable, indices_boost, knn, lenient, max_concurrent_shard_requests, min_compatible_shard_node, min_score, pit, post_filter, pre_filter_shard_size, preference, pretty, profile, q, query, rank, request_cache, rescore, rest_total_hits_as_int, routing, runtime_mappings, script_fields, scroll, search_after, search_type, seq_no_primary_term, size, slice, sort, source, source_excludes, source_includes, stats, stored_fields, suggest, suggest_field, suggest_mode, suggest_size, suggest_text, terminate_after, timeout, track_scores, track_total_hits, typed_keys, version)\u001b[0m\n\u001b[1;32m   3731\u001b[0m         \u001b[0;32mif\u001b[0m \u001b[0m__body\u001b[0m \u001b[0;32mis\u001b[0m \u001b[0;32mnot\u001b[0m \u001b[0;32mNone\u001b[0m\u001b[0;34m:\u001b[0m\u001b[0;34m\u001b[0m\u001b[0;34m\u001b[0m\u001b[0m\n\u001b[1;32m   3732\u001b[0m             \u001b[0m__headers\u001b[0m\u001b[0;34m[\u001b[0m\u001b[0;34m\"content-type\"\u001b[0m\u001b[0;34m]\u001b[0m \u001b[0;34m=\u001b[0m \u001b[0;34m\"application/json\"\u001b[0m\u001b[0;34m\u001b[0m\u001b[0;34m\u001b[0m\u001b[0m\n\u001b[0;32m-> 3733\u001b[0;31m         return self.perform_request(  # type: ignore[return-value]\n\u001b[0m\u001b[1;32m   3734\u001b[0m             \u001b[0;34m\"POST\"\u001b[0m\u001b[0;34m,\u001b[0m \u001b[0m__path\u001b[0m\u001b[0;34m,\u001b[0m \u001b[0mparams\u001b[0m\u001b[0;34m=\u001b[0m\u001b[0m__query\u001b[0m\u001b[0;34m,\u001b[0m \u001b[0mheaders\u001b[0m\u001b[0;34m=\u001b[0m\u001b[0m__headers\u001b[0m\u001b[0;34m,\u001b[0m \u001b[0mbody\u001b[0m\u001b[0;34m=\u001b[0m\u001b[0m__body\u001b[0m\u001b[0;34m\u001b[0m\u001b[0;34m\u001b[0m\u001b[0m\n\u001b[1;32m   3735\u001b[0m         )\n",
            "\u001b[0;32m/usr/local/lib/python3.10/dist-packages/elasticsearch/_sync/client/_base.py\u001b[0m in \u001b[0;36mperform_request\u001b[0;34m(self, method, path, params, headers, body)\u001b[0m\n\u001b[1;32m    318\u001b[0m                     \u001b[0;32mpass\u001b[0m\u001b[0;34m\u001b[0m\u001b[0;34m\u001b[0m\u001b[0m\n\u001b[1;32m    319\u001b[0m \u001b[0;34m\u001b[0m\u001b[0m\n\u001b[0;32m--> 320\u001b[0;31m             raise HTTP_EXCEPTIONS.get(meta.status, ApiError)(\n\u001b[0m\u001b[1;32m    321\u001b[0m                 \u001b[0mmessage\u001b[0m\u001b[0;34m=\u001b[0m\u001b[0mmessage\u001b[0m\u001b[0;34m,\u001b[0m \u001b[0mmeta\u001b[0m\u001b[0;34m=\u001b[0m\u001b[0mmeta\u001b[0m\u001b[0;34m,\u001b[0m \u001b[0mbody\u001b[0m\u001b[0;34m=\u001b[0m\u001b[0mresp_body\u001b[0m\u001b[0;34m\u001b[0m\u001b[0;34m\u001b[0m\u001b[0m\n\u001b[1;32m    322\u001b[0m             )\n",
            "\u001b[0;31mBadRequestError\u001b[0m: BadRequestError(400, 'parsing_exception', 'unknown query [fuzzzzzzzzy]')"
          ]
        }
      ]
    },
    {
      "cell_type": "markdown",
      "source": [
        "## クリックカウントのトラック"
      ],
      "metadata": {
        "id": "Ffo5sMwz2iSg"
      }
    },
    {
      "cell_type": "code",
      "source": [
        "client.begin_transaction(transaction_type=\"app\")\n",
        "elasticapm.set_user_context(username=\"nobuhiko\")\n",
        "\n",
        "elasticapm.label(clicked_transaction_name=\"search-manual-instrument2\", clicked_doc_id=\"uySqYYwBoRDJc2lL7RCw\", clicked_search_key_word=\"iPhone\")\n",
        "\n",
        "client.end_transaction(name=\"click_count\", result=\"success\")"
      ],
      "metadata": {
        "id": "JCBctjyDxJZc"
      },
      "execution_count": null,
      "outputs": []
    }
  ]
}